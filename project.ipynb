{
 "cells": [
  {
   "cell_type": "markdown",
   "metadata": {},
   "source": [
    "Workshop Project "
   ]
  },
  {
   "cell_type": "code",
   "execution_count": 1,
   "metadata": {},
   "outputs": [
    {
     "name": "stdout",
     "output_type": "stream",
     "text": [
      "verification code is : 187\n",
      " wlecome to the application \n",
      "+-------+-------+----------+\n",
      "|  Name | Price | Quantity |\n",
      "+-------+-------+----------+\n",
      "| water |  80.0 |   1200   |\n",
      "|  soda | 160.0 |   1200   |\n",
      "| chips |  75.0 |   1200   |\n",
      "| bread |  45.0 |   1200   |\n",
      "|  eggs | 200.0 |   1200   |\n",
      "+-------+-------+----------+\n",
      "product name : water\n",
      "Total price:  800.0\n",
      "product name : soda\n",
      "Total price:  2400.0\n",
      "product name : chips\n",
      "Total price:  3150.0\n",
      "product not found in the table. Please enter a valid product.\n",
      "product name : bread\n",
      "Total price:  3600.0\n",
      "product name : eggs\n",
      "Total price:  5600.0\n",
      " discount is  0.0\n",
      " Total Price to be paid after discount is :  5600.0\n",
      "Thank you for being one of our customers \n"
     ]
    }
   ],
   "source": [
    "import random\n",
    "from prettytable import PrettyTable\n",
    "\n",
    "users={\"ahmed\":\"121212\",\n",
    "       \"ali\":\"112233\",\n",
    "       \"ibrahim\":\"123456\",\n",
    "       \"test\":\"111111\"\n",
    "       }\n",
    "while True:\n",
    "    user_name=input(\"enter your username: \")\n",
    "    if user_name in users:\n",
    "        y=input(\"enter your password:  \")\n",
    "        if y==users[user_name]:\n",
    "            s=random.randrange(100,1000)\n",
    "            print(\"verification code is :\", s)\n",
    "            while True:\n",
    "                i=int(input(\"enter the verification code: \"))\n",
    "                if i==s:\n",
    "                    print(\" wlecome to the application \")\n",
    "                    break\n",
    "                else:\n",
    "                    print(\"Incorrect verification code . Try Again \")\n",
    "            break\n",
    "        else:\n",
    "            print(\"incorrect password\")\n",
    "    else:\n",
    "        print(\"incorrect username\")\n",
    "        \n",
    "products=[\n",
    "    {\"name\":\"water\",\"price\":80.0 , \"Quantity\":1200},\n",
    "    {\"name\":\"soda\" , \"price\":160.0 ,\"Quantity\":1200},\n",
    "    {\"name\":\"chips\", \"price\":75.0,\"Quantity\":1200},\n",
    "    {\"name\":\"bread\",\"price\":45.0,\"Quantity\":1200},\n",
    "    {\"name\":\"eggs\",\"price\":200.0,\"Quantity\":1200}\n",
    "]\n",
    "table=PrettyTable()\n",
    "table.field_names=[\"Name\",\"Price\",\"Quantity\"]\n",
    "for product in products:\n",
    "    table.add_row([product[\"name\"],product[\"price\"],product[\"Quantity\"]])\n",
    "print(table)\n",
    "\n",
    "total_price=0\n",
    "\n",
    "while True:\n",
    "    product_name=input(\"enter Product name : \").lower()\n",
    "    if product_name not in map(lambda x:x[\"name\"].lower(),products):\n",
    "        print(\"product not found in the table. Please enter a valid product.\")\n",
    "    else:\n",
    "        product_name=product_name.lower()\n",
    "        print(\"product name :\", product_name)\n",
    "        quantity_required=int(input(\"enter the required quantity: \"))\n",
    "        product = next(p for p in products if p[\"name\"].lower()==product_name)\n",
    "        if quantity_required > product[\"Quantity\"]:\n",
    "          print(\"Insufficient quantity . Please enter a new quantity. \")\n",
    "        product[\"Quantity\"]=product[\"Quantity\"]-quantity_required\n",
    "        total_price +=product[\"price\"]*quantity_required\n",
    "        print(\"Total price: \",total_price)\n",
    "        choice=input(\"Do you want more products?(yes/no): \")\n",
    "        if choice.lower()==\"no\":\n",
    "            break\n",
    "        \n",
    "discount =0     \n",
    "discount_value=total_price*discount\n",
    "print(\" discount is \", discount_value)\n",
    "total_final_price=total_price-discount_value\n",
    "print(\" Total Price to be paid after discount is : \", total_final_price)\n",
    "print( \"Thank you for being one of our customers \")\n"
   ]
  },
  {
   "cell_type": "code",
   "execution_count": null,
   "metadata": {},
   "outputs": [],
   "source": []
  },
  {
   "cell_type": "code",
   "execution_count": null,
   "metadata": {},
   "outputs": [],
   "source": []
  }
 ],
 "metadata": {
  "kernelspec": {
   "display_name": "Python 3",
   "language": "python",
   "name": "python3"
  },
  "language_info": {
   "codemirror_mode": {
    "name": "ipython",
    "version": 3
   },
   "file_extension": ".py",
   "mimetype": "text/x-python",
   "name": "python",
   "nbconvert_exporter": "python",
   "pygments_lexer": "ipython3",
   "version": "3.12.6"
  }
 },
 "nbformat": 4,
 "nbformat_minor": 2
}
