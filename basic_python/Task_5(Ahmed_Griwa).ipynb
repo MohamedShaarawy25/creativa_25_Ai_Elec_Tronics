{
 "cells": [
  {
   "cell_type": "markdown",
   "metadata": {},
   "source": [
    "Task_5\n"
   ]
  },
  {
   "cell_type": "markdown",
   "metadata": {},
   "source": [
    "Point_1\n"
   ]
  },
  {
   "cell_type": "code",
   "execution_count": 9,
   "metadata": {},
   "outputs": [
    {
     "name": "stdout",
     "output_type": "stream",
     "text": [
      "[[1 1 1 1 1]\n",
      " [1 0 0 0 1]\n",
      " [1 0 0 0 1]\n",
      " [1 0 0 0 1]\n",
      " [1 1 1 1 1]]\n"
     ]
    }
   ],
   "source": [
    "import numpy as np\n",
    "matrix = np.zeros((5,5), dtype=int)\n",
    "matrix[0,:] = 1\n",
    "matrix[-1,:] = 1\n",
    "matrix[:,0] = 1\n",
    "matrix[:,-1] = 1\n",
    "print(matrix)"
   ]
  },
  {
   "cell_type": "markdown",
   "metadata": {},
   "source": [
    "Point_2\n"
   ]
  },
  {
   "cell_type": "code",
   "execution_count": 15,
   "metadata": {},
   "outputs": [
    {
     "name": "stdout",
     "output_type": "stream",
     "text": [
      "[[1 3 3 3 2]\n",
      " [3 1 3 2 3]\n",
      " [3 3 1 3 3]\n",
      " [3 2 3 1 3]\n",
      " [2 3 3 3 1]]\n"
     ]
    }
   ],
   "source": [
    "import numpy as np\n",
    "matrix = np.full((5,5),3)\n",
    "np.fill_diagonal(np.fliplr(matrix),2)\n",
    "np.fill_diagonal(matrix,1)\n",
    "print(matrix)"
   ]
  },
  {
   "cell_type": "markdown",
   "metadata": {},
   "source": [
    "Point_3\n"
   ]
  },
  {
   "cell_type": "code",
   "execution_count": 19,
   "metadata": {},
   "outputs": [
    {
     "name": "stdout",
     "output_type": "stream",
     "text": [
      "[3.84615385 0.25641026]\n"
     ]
    }
   ],
   "source": [
    "import numpy as np\n",
    "x=np.array([[5,3]\n",
    "            ,[3,-6]])\n",
    "R=np.array([20,10])\n",
    "solution =np.linalg.solve(x,R)\n",
    "print(solution)"
   ]
  },
  {
   "cell_type": "markdown",
   "metadata": {},
   "source": [
    "Point_4"
   ]
  },
  {
   "cell_type": "code",
   "execution_count": 22,
   "metadata": {},
   "outputs": [
    {
     "name": "stdout",
     "output_type": "stream",
     "text": [
      "[['ahmed' 'elsayed' 'ahmed']\n",
      " ['engineer' 'doctor' 'teacher']]\n"
     ]
    }
   ],
   "source": [
    "import numpy as np\n",
    "first=np.array([\"ahmed\",\"elsayed\",\"ahmed\"])\n",
    "second=np.array([\"engineer\",\"doctor\",\"teacher\"])\n",
    "result=np.vstack((first,second))\n",
    "print(result)"
   ]
  }
 ],
 "metadata": {
  "kernelspec": {
   "display_name": "Python 3",
   "language": "python",
   "name": "python3"
  },
  "language_info": {
   "codemirror_mode": {
    "name": "ipython",
    "version": 3
   },
   "file_extension": ".py",
   "mimetype": "text/x-python",
   "name": "python",
   "nbconvert_exporter": "python",
   "pygments_lexer": "ipython3",
   "version": "3.12.4"
  }
 },
 "nbformat": 4,
 "nbformat_minor": 2
}
