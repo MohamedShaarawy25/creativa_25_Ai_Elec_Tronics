{
  "nbformat": 4,
  "nbformat_minor": 0,
  "metadata": {
    "colab": {
      "provenance": [],
      "authorship_tag": "ABX9TyO7gCuT6D4JGKrgdBCiXaB/",
      "include_colab_link": true
    },
    "kernelspec": {
      "name": "python3",
      "display_name": "Python 3"
    },
    "language_info": {
      "name": "python"
    }
  },
  "cells": [
    {
      "cell_type": "markdown",
      "metadata": {
        "id": "view-in-github",
        "colab_type": "text"
      },
      "source": [
        "<a href=\"https://colab.research.google.com/github/MohamedShaarawy25/creativa_25_Ai_Elec_Tronics/blob/main/task_cal_.ipynb\" target=\"_parent\"><img src=\"https://colab.research.google.com/assets/colab-badge.svg\" alt=\"Open In Colab\"/></a>"
      ]
    },
    {
      "cell_type": "code",
      "execution_count": 4,
      "metadata": {
        "id": "J-VqO4WqoDTR"
      },
      "outputs": [],
      "source": [
        "def get_number(x):\n",
        "  while True:\n",
        "    try:\n",
        "      return float(input(x))\n",
        "    except valueError:\n",
        "               print(\"invalid input.please enter a valid number.\")\n",
        "\n",
        "def perform_calculation(operation,num1,num2):\n",
        "          if operation =='1':\n",
        "            return num1 + num2\n",
        "          elif operation == '2':\n",
        "            return num1 - num2\n",
        "          elif operation == '3':\n",
        "            return num1 * num2\n",
        "          elif operation == '4':\n",
        "            if num2 != 0:\n",
        "              print(\"division by zero not allowed\")\n",
        "              return None\n",
        "              return num1 / num2\n",
        "              def calc():\n",
        "                while true:\n",
        "                  print(\"select operation:\")\n",
        "                  print(\"1.addition\")\n",
        "                  print(\"2.subtraction\")\n",
        "                  print(\"3.multiplication\")\n",
        "                  print(\"4.division\")\n",
        "                  print(\"5.exit\")\n",
        "\n",
        "                  choice = input(\"choose operation (1-5):\")\n",
        "                  if choice == '5':\n",
        "                    print(\"exiting calculator.\")\n",
        "                    break\n",
        "                    if choice not in ('1','2','3','4'):\n",
        "                      print(\"invalid choice.please choose a valid operation.\")\n",
        "                      continue\n",
        "                      num1 = get_number(\"enter first number:\")\n",
        "                      num2 = get_number(\"enter second number:\")\n",
        "                      result = perform_calculation(choice,num1,num2)\n",
        "                      if result is not None:\n",
        "                        operations={\n",
        "                            '1':'addition',\n",
        "                            '2':'subtraction',\n",
        "                            '3':'multiplication',\n",
        "                            '4':'division'\n",
        "                        }\n",
        "                        print(f\"result of {operation[choice]}{num1}and {num2}is {result}.\")\n",
        "                        calc()\n",
        "                        if __name__ == \"__main__\":\n",
        "                          calc()\n",
        "\n",
        ""
      ]
    },
    {
      "cell_type": "code",
      "source": [
        "perform_calculation(2,5,2)\n"
      ],
      "metadata": {
        "id": "5VkSu48krkuN"
      },
      "execution_count": 7,
      "outputs": []
    }
  ]
}