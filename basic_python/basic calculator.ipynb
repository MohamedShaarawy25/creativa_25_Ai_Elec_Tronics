{
 "cells": [
  {
   "cell_type": "code",
   "execution_count": null,
   "metadata": {},
   "outputs": [
    {
     "name": "stdout",
     "output_type": "stream",
     "text": [
      "Select the operation you want : \n",
      "1.Add\n",
      "2.Subtract\n",
      "3.Multiply\n",
      "4.Divide\n",
      "the result =  9.0 - 5.0 = 4.0\n"
     ]
    }
   ],
   "source": [
    "'''\n",
    "Basic Calculator\n",
    "Mohamed Abusair\n",
    "'''\n",
    "def calculation (x,y,z):\n",
    "    if z==\"1\":\n",
    "        return x+y\n",
    "    elif z==\"2\":\n",
    "        return x-y\n",
    "    elif z==\"3\":\n",
    "        return x*y\n",
    "    elif z==\"4\":\n",
    "        return x/y\n",
    "    else :\n",
    "        return (\"you have input something wrong\")\n",
    "\n",
    "print(\"Select the operation you want : \")\n",
    "print(\"1.Add\\n2.Subtract\\n3.Multiply\\n4.Divide\")\n",
    "\n",
    "operation = (input(f\"Enter the operation you want 1/2/3/4 : \"))\n",
    "a = float(input(\"Enter the first number : \"))\n",
    "b = float(input(\"Enter the second number : \"))\n",
    "\n",
    "result = calculation(a,b,operation)\n",
    "if operation == \"1\":\n",
    "    print(\"the result = \",a,\"+\",b,\"=\",round(result,1))\n",
    "elif operation == \"2\":\n",
    "    print(\"the result = \",a,\"-\",b,\"=\",round(result,1))\n",
    "elif operation == \"3\":\n",
    "    print(\"the result = \",a,\"*\",b,\"=\",round(result,1))\n",
    "elif operation == \"4\":\n",
    "    print(\"the result = \",a,\"/\",b,\"=\",round(result,1))\n",
    "else :\n",
    "    print(result)"
   ]
  }
 ],
 "metadata": {
  "kernelspec": {
   "display_name": "Python 3",
   "language": "python",
   "name": "python3"
  },
  "language_info": {
   "codemirror_mode": {
    "name": "ipython",
    "version": 3
   },
   "file_extension": ".py",
   "mimetype": "text/x-python",
   "name": "python",
   "nbconvert_exporter": "python",
   "pygments_lexer": "ipython3",
   "version": "3.12.4"
  }
 },
 "nbformat": 4,
 "nbformat_minor": 2
}
