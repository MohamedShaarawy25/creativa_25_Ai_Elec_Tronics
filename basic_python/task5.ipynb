{
 "cells": [
  {
   "cell_type": "code",
   "execution_count": 5,
   "metadata": {},
   "outputs": [
    {
     "name": "stdout",
     "output_type": "stream",
     "text": [
      "[[1 1 1 1 1]\n",
      " [1 0 0 0 1]\n",
      " [1 0 0 0 1]\n",
      " [1 0 0 0 1]\n",
      " [1 1 1 1 1]]\n",
      "=============================\n",
      "[[1 3 3 3 2]\n",
      " [3 1 3 2 3]\n",
      " [3 3 2 3 3]\n",
      " [3 2 3 1 3]\n",
      " [2 3 3 3 1]]\n"
     ]
    }
   ],
   "source": [
    "import numpy as np\n",
    "x1 = np.array([[1,1,1,1,1],\n",
    "              [1,0,0,0,1],\n",
    "              [1,0,0,0,1],\n",
    "              [1,0,0,0,1],\n",
    "              [1,1,1,1,1]])\n",
    "\n",
    "x2 = np.array([[1,3,3,3,2],\n",
    "               [3,1,3,2,3],\n",
    "               [3,3,2,3,3,],\n",
    "               [3,2,3,1,3],\n",
    "               [2,3,3,3,1]])\n",
    "\n",
    "\n",
    "print(x1)\n",
    "print(\"=============================\")\n",
    "print(x2)"
   ]
  }
 ],
 "metadata": {
  "kernelspec": {
   "display_name": "venv",
   "language": "python",
   "name": "python3"
  },
  "language_info": {
   "codemirror_mode": {
    "name": "ipython",
    "version": 3
   },
   "file_extension": ".py",
   "mimetype": "text/x-python",
   "name": "python",
   "nbconvert_exporter": "python",
   "pygments_lexer": "ipython3",
   "version": "3.12.4"
  }
 },
 "nbformat": 4,
 "nbformat_minor": 2
}
