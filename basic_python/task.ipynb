{
 "cells": [
  {
   "cell_type": "code",
   "execution_count": null,
   "metadata": {},
   "outputs": [
    {
     "name": "stdout",
     "output_type": "stream",
     "text": [
      "{1, 2, 4}\n",
      "{2, 4}\n"
     ]
    }
   ],
   "source": [
    "# task8\n",
    "def remove_from_set(my_set, items):\n",
    "  \"\"\"Removes items from a set.\"\"\"\n",
    "  if isinstance(items, (list, set, tuple)):\n",
    "    my_set.difference_update(set(items))\n",
    "  else:\n",
    "    my_set.discard(items) #use discard to avoid KeyError\n",
    "  return my_set\n",
    "\n",
    "# Example\n",
    "my_set = {1, 2, 3, 4}\n",
    "my_set = remove_from_set(my_set, 3)\n",
    "print(my_set) # Output: {1, 2, 4}\n",
    "\n",
    "my_set = remove_from_set(my_set, [1, 5]) #5 is ignored\n",
    "print(my_set) #Output: {2, 4}"
   ]
  },
  {
   "cell_type": "code",
   "execution_count": null,
   "metadata": {},
   "outputs": [
    {
     "name": "stdout",
     "output_type": "stream",
     "text": [
      "Original list: [1, 2, 3, 4, 5]\n",
      "Cloned list: [1, 2, 3, 4, 5]\n"
     ]
    }
   ],
   "source": [
    "# task7\n",
    "def clone_list(original_list):\n",
    "  \"\"\"\n",
    "  Clones a list.\n",
    "\n",
    "  Args:\n",
    "    original_list: The list to clone.\n",
    "\n",
    "  Returns:\n",
    "    A new list containing the same elements as the original list.\n",
    "  \"\"\"\n",
    "  return original_list[:] #using slicing to create a shallow copy\n",
    "\n",
    "# Example usage:\n",
    "my_list = [1, 2, 3, 4, 5]\n",
    "cloned_list = clone_list(my_list)\n",
    "\n",
    "print(\"Original list:\", my_list)\n",
    "print(\"Cloned list:\", cloned_list)"
   ]
  },
  {
   "cell_type": "code",
   "execution_count": null,
   "metadata": {},
   "outputs": [],
   "source": []
  }
 ],
 "metadata": {
  "kernelspec": {
   "display_name": "env",
   "language": "python",
   "name": "python3"
  },
  "language_info": {
   "codemirror_mode": {
    "name": "ipython",
    "version": 3
   },
   "file_extension": ".py",
   "mimetype": "text/x-python",
   "name": "python",
   "nbconvert_exporter": "python",
   "pygments_lexer": "ipython3",
   "version": "3.11.0rc2"
  }
 },
 "nbformat": 4,
 "nbformat_minor": 2
}
