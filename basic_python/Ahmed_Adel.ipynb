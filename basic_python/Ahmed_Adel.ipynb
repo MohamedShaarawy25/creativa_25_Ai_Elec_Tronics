{
 "cells": [
  {
   "cell_type": "code",
   "execution_count": null,
   "metadata": {},
   "outputs": [],
   "source": [
    "#Assignemnt 2 #task 1\n",
    "\n",
    "X= (1,2,3,4,\"ahmed\",\"ali\")\n",
    "type(X)\n",
    "Y= list(X)\n",
    "Y.append(\"mohamed\")\n",
    "Z= tuple(Y)\n",
    "print(Z)"
   ]
  },
  {
   "cell_type": "code",
   "execution_count": null,
   "metadata": {},
   "outputs": [],
   "source": [
    "#Assignment 2 #task 1\n",
    "\n",
    "X=[1,2,3,4,5,6,7,8,9,10]\n",
    "\n",
    "def sum_numbers(*x):  # *x allows multiple arguments as a tuple\n",
    "    y = 0\n",
    "    for i in x:  # Iterate over the tuple\n",
    "        y += i   # Add each number to y\n",
    "    return y\n",
    "\n",
    "print(\"Sum:\", sum_numbers(*X))\n",
    "\n"
   ]
  },
  {
   "cell_type": "code",
   "execution_count": null,
   "metadata": {},
   "outputs": [],
   "source": [
    "#Assignment 3 #task 1\n",
    "\n",
    "X=[1,2,3,4,5,6,7,8,9,10]\n",
    "\n",
    "def sum_numbers(*x):  # *x allows multiple arguments as a tuple\n",
    "    y = 1\n",
    "    for i in x:  # Iterate over the tuple\n",
    "        y *= i   # Add each number to y\n",
    "    return y\n",
    "\n",
    "print(\"Multiply:\", sum_numbers(*X))\n"
   ]
  },
  {
   "cell_type": "code",
   "execution_count": null,
   "metadata": {},
   "outputs": [],
   "source": [
    "#Assignment 4,5 #task 1\n",
    "\n",
    "x=[1,2,3,4,5,6,7,8,9,10]\n",
    "y=min(x)\n",
    "Z=max(x)\n",
    "print(\"Min. number is:\",y,\"    \",\"Max. number is\", Z)"
   ]
  },
  {
   "cell_type": "code",
   "execution_count": null,
   "metadata": {},
   "outputs": [],
   "source": []
  },
  {
   "cell_type": "code",
   "execution_count": null,
   "metadata": {},
   "outputs": [],
   "source": []
  }
 ],
 "metadata": {
  "language_info": {
   "name": "python"
  }
 },
 "nbformat": 4,
 "nbformat_minor": 2
}
