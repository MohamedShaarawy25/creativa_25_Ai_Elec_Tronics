{
 "cells": [
  {
   "cell_type": "code",
   "execution_count": null,
   "metadata": {},
   "outputs": [
    {
     "name": "stdout",
     "output_type": "stream",
     "text": [
      "(1, 2, 3, 4)\n"
     ]
    }
   ],
   "source": [
    "#point 1 \n",
    "\n",
    "my_tuple = (1, 2, 3)\n",
    "\n",
    "new_element = 4\n",
    "new_tuple = my_tuple + (new_element,)\n",
    "\n",
    "print(new_tuple)"
   ]
  },
  {
   "cell_type": "code",
   "execution_count": 2,
   "metadata": {},
   "outputs": [
    {
     "name": "stdout",
     "output_type": "stream",
     "text": [
      "15\n"
     ]
    }
   ],
   "source": [
    "#point 2\n",
    "\n",
    "my_list = [1, 2, 3, 4, 5]\n",
    "\n",
    "total_sum = sum(my_list)\n",
    "\n",
    "\n",
    "print(total_sum)"
   ]
  },
  {
   "cell_type": "code",
   "execution_count": null,
   "metadata": {},
   "outputs": [
    {
     "name": "stdout",
     "output_type": "stream",
     "text": [
      "720\n"
     ]
    }
   ],
   "source": [
    "#point 3\n",
    "\n",
    "list2=[1,2,3,4,5,6]\n",
    "multiply_list= 1\n",
    "for item in list2:\n",
    "    multiply_list=multiply_list*item\n",
    "\n",
    "print (multiply_list)\n"
   ]
  },
  {
   "cell_type": "code",
   "execution_count": null,
   "metadata": {},
   "outputs": [
    {
     "data": {
      "text/plain": [
       "1"
      ]
     },
     "execution_count": 3,
     "metadata": {},
     "output_type": "execute_result"
    }
   ],
   "source": [
    "#point 4\n",
    "list3=[5,9,3,7,1,2,6]\n",
    "smallest_num=min(list3)\n",
    "smallest_num"
   ]
  },
  {
   "cell_type": "code",
   "execution_count": null,
   "metadata": {},
   "outputs": [
    {
     "name": "stdout",
     "output_type": "stream",
     "text": [
      "Maximum value: 70\n",
      "Minimum value: 10\n"
     ]
    }
   ],
   "source": [
    "#p11\n",
    "numbers = {10,20,30,40,70,39,50}\n",
    "max_value = max(numbers)\n",
    "min_value = min(numbers)\n",
    "print(\"Maximum value:\", max_value)\n",
    "print(\"Minimum value:\", min_value)"
   ]
  },
  {
   "cell_type": "code",
   "execution_count": null,
   "metadata": {},
   "outputs": [
    {
     "name": "stdout",
     "output_type": "stream",
     "text": [
      "The index of 40 is: 3\n"
     ]
    }
   ],
   "source": [
    "#p12\n",
    "my_tuple = (10, 20, 30, 40, 50, 60)\n",
    "item = 40\n",
    "if item in my_tuple:\n",
    "    index = my_tuple.index(item)\n",
    "    print(f\"The index of {item} is: {index}\")\n",
    "else:\n",
    "    print(f\"{item} is not in the tuple.\")   "
   ]
  },
  {
   "cell_type": "code",
   "execution_count": null,
   "metadata": {},
   "outputs": [
    {
     "name": "stdout",
     "output_type": "stream",
     "text": [
      "Converted Dictionary: {'name': 'lana', 'age': 5, 'city': 'port said'}\n"
     ]
    }
   ],
   "source": [
    "#p13\n",
    "tuple_data = ((\"name\", \"lana\"), (\"age\",5), (\"city\", \"port said\"))\n",
    "dictionary = dict(tuple_data)\n",
    "print(\"Converted Dictionary:\", dictionary)"
   ]
  }
 ],
 "metadata": {
  "kernelspec": {
   "display_name": "Python 3",
   "language": "python",
   "name": "python3"
  },
  "language_info": {
   "codemirror_mode": {
    "name": "ipython",
    "version": 3
   },
   "file_extension": ".py",
   "mimetype": "text/x-python",
   "name": "python",
   "nbconvert_exporter": "python",
   "pygments_lexer": "ipython3",
   "version": "3.12.4"
  }
 },
 "nbformat": 4,
 "nbformat_minor": 2
}
