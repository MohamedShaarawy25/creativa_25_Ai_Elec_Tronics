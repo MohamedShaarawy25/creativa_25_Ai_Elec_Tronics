{
 "cells": [
  {
   "cell_type": "code",
   "execution_count": 6,
   "metadata": {},
   "outputs": [
    {
     "name": "stdout",
     "output_type": "stream",
     "text": [
      "the list is :  ['1', '2', '3', '4', '5']\n",
      "the largest number is :  5\n"
     ]
    }
   ],
   "source": [
    "# No. 5\n",
    "the_list = input(\"enter the numbers: \").split(',')\n",
    "print(f\"the list is : \",the_list)\n",
    "largest_number = max(the_list)\n",
    "print(f\"the largest number is : \",largest_number)"
   ]
  },
  {
   "cell_type": "code",
   "execution_count": 6,
   "metadata": {},
   "outputs": [
    {
     "name": "stdout",
     "output_type": "stream",
     "text": [
      "Number of 'Mohamed' is : 7\n",
      "Number of 'Ahmed' is : 5\n",
      "Number of 'Ali' is : 3\n"
     ]
    }
   ],
   "source": [
    "# No. 6\n",
    "def count_characters(string_list):\n",
    "    return [len(item) for item in string_list]\n",
    "\n",
    "strings = [\"Mohamed\",\"Ahmed\",\"Ali\"]\n",
    "char_counts = count_characters(strings)\n",
    "\n",
    "for string, count in zip(strings, char_counts):\n",
    "    print(f\"Number of '{string}' is : {count}\")"
   ]
  }
 ],
 "metadata": {
  "kernelspec": {
   "display_name": "Python 3",
   "language": "python",
   "name": "python3"
  },
  "language_info": {
   "codemirror_mode": {
    "name": "ipython",
    "version": 3
   },
   "file_extension": ".py",
   "mimetype": "text/x-python",
   "name": "python",
   "nbconvert_exporter": "python",
   "pygments_lexer": "ipython3",
   "version": "3.12.4"
  }
 },
 "nbformat": 4,
 "nbformat_minor": 2
}
