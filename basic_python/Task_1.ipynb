{
 "cells": [
  {
   "cell_type": "code",
   "execution_count": 1,
   "metadata": {},
   "outputs": [
    {
     "name": "stdout",
     "output_type": "stream",
     "text": [
      "['g', 'r', 'i', 'w', 'a', '5', '0', '0', '@', 'g', 'm', 'a', 'i', 'l', '.', 'e', 'd', 'u']\n",
      "valid\n",
      "8\n",
      "14\n",
      "gmail\n",
      ".edu\n",
      "griwa500\n",
      "Educational Domain\n"
     ]
    }
   ],
   "source": [
    "x=\"griwa500@gmail.edu\"\n",
    "y=list(x) \n",
    "print(y)\n",
    "if (\"@\") in y and (\".\") in y:\n",
    "    print(\"valid\")\n",
    "    C1=y.index(\"@\")\n",
    "    C2=y.index(\".\")\n",
    "    Domain_Ending=(x[C2:])\n",
    "    Domain=(x[C1+1:C2])\n",
    "    user_name=(x[:C1])\n",
    "    print(C1)\n",
    "    print(C2)\n",
    "    print(Domain)\n",
    "    print(Domain_Ending)\n",
    "    print(user_name)\n",
    "    z=y.pop(C1)\n",
    "    g=y.pop(C2-1)\n",
    "\n",
    "    if Domain_Ending==(\".com\"):\n",
    "        print(\"Commertial Domain\")\n",
    "    elif Domain_Ending==(\".edu\"):\n",
    "        print(\"Educational Domain\")\n",
    "    else:\n",
    "        print(\"Other Domain\")\n",
    "else:\n",
    "    print(\"invalid\")\n",
    "\n",
    "\n",
    "\n",
    "  \n",
    "\n",
    "\n"
   ]
  }
 ],
 "metadata": {
  "kernelspec": {
   "display_name": "Python 3",
   "language": "python",
   "name": "python3"
  },
  "language_info": {
   "codemirror_mode": {
    "name": "ipython",
    "version": 3
   },
   "file_extension": ".py",
   "mimetype": "text/x-python",
   "name": "python",
   "nbconvert_exporter": "python",
   "pygments_lexer": "ipython3",
   "version": "3.12.4"
  }
 },
 "nbformat": 4,
 "nbformat_minor": 2
}
