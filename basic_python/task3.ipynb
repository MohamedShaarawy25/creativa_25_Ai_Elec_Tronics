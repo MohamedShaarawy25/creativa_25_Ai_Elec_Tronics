{
 "cells": [
  {
   "cell_type": "code",
   "execution_count": 6,
   "metadata": {},
   "outputs": [
    {
     "name": "stdout",
     "output_type": "stream",
     "text": [
      "1.Add\n",
      " 2.Subtract\n",
      "  3.Multiply \n",
      "  4. Divide \n",
      "  5. Exit\n",
      "\n",
      "20.0 / 5.0 = 4.0\n"
     ]
    }
   ],
   "source": [
    "def sum_function(x,y):\n",
    "    return x+y\n",
    "def subtract_function(x,y):\n",
    "    return x-y\n",
    "\n",
    "def multiply_function(x,y):\n",
    "    return x*y\n",
    "\n",
    "def division_function(x,y):\n",
    "      if y==0:\n",
    "         return \"Division by zero error\"\n",
    "      return x/y\n",
    "\n",
    "\n",
    "print(\"1.Add\\n\",\"2.Subtract\\n \" ,\"3.Multiply \\n\", \" 4. Divide \\n\",\" 5. Exit\\n\")\n",
    "operation=input(\"Please choose the operation (1/2/3/4)\")\n",
    "num1=float((input(\"please enter the first number\")))\n",
    "num2=float((input(\"please enter the second number\")))\n",
    "if operation==\"1\":\n",
    "  print(num1,\"+\",num2,\"=\", sum_function(num1,num2))\n",
    "elif operation==\"2\":\n",
    "  print(num1,\"-\",num2,\"=\", subtract_function(num1,num2))\n",
    "elif operation==\"3\":\n",
    "  print(num1,\"*\",num2,\"=\", multiply_function(num1,num2))\n",
    "elif operation==\"4\":\n",
    "  print(num1,\"/\",num2,\"=\", division_function(num1,num2))\n",
    "else:\n",
    "  print(\"invalid inputs\")\n",
    "another_operation=input(\"Do you want to perform another operation?(yes/no)\")\n",
    "if another_operation!=\"yes\":\n",
    "  print(\" Thank you for using our program \")"
   ]
  },
  {
   "cell_type": "code",
   "execution_count": null,
   "metadata": {},
   "outputs": [],
   "source": []
  },
  {
   "cell_type": "code",
   "execution_count": null,
   "metadata": {},
   "outputs": [],
   "source": []
  }
 ],
 "metadata": {
  "kernelspec": {
   "display_name": "Python 3",
   "language": "python",
   "name": "python3"
  },
  "language_info": {
   "codemirror_mode": {
    "name": "ipython",
    "version": 3
   },
   "file_extension": ".py",
   "mimetype": "text/x-python",
   "name": "python",
   "nbconvert_exporter": "python",
   "pygments_lexer": "ipython3",
   "version": "3.12.6"
  }
 },
 "nbformat": 4,
 "nbformat_minor": 2
}
