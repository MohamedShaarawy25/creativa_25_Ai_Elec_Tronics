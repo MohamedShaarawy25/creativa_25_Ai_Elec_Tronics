{
 "cells": [
  {
   "cell_type": "markdown",
   "metadata": {},
   "source": [
    "Task_3"
   ]
  },
  {
   "cell_type": "code",
   "execution_count": null,
   "metadata": {},
   "outputs": [],
   "source": [
    "while True:\n",
    "    print(\" 1_Add\\n\",\"2_subtract\\n\",\"3_multiply\\n\",\"4_divergance\\n\")\n",
    "    Operation = int(input(\"Enter the Operation Code (1: Add, 2: Subtract, 3: Multiply, 4: Divide), press Enter to confirm: \"))\n",
    "    \n",
    "    Operation_int=[1,2,3,4]\n",
    "    \n",
    "    if  Operation in Operation_int   :\n",
    "        print(\"valid\")\n",
    "        try:\n",
    "            First=float(input(\"Enter num_1\"))\n",
    "            second=float(input(\"Enter num_2\"))   \n",
    "        except ValueError:\n",
    "            print(\" Invalid input! Please enter a numeric value for num_1.\")\n",
    "           \n",
    "        if Operation == 1 :\n",
    "            sum_result = First+second\n",
    "            print (sum_result)\n",
    "        elif Operation == 2 :\n",
    "            sub_result = First-second\n",
    "            print(sub_result)\n",
    "        elif Operation == 3 :\n",
    "            multi_result = First*second\n",
    "            print(multi_result)\n",
    "        elif Operation == 4 :\n",
    "           if second != 0 :\n",
    "             div_result = (First/second)\n",
    "             print(div_result)\n",
    "           else:\n",
    "               print(\"Error (second) can not have (0) value\")\n",
    "            \n",
    "        else:\n",
    "             print(\"Error in the Program,enter numerical number only\")\n",
    "                \n",
    "        \n",
    "    else:\n",
    "        print(\"invalid,Error Enter the Operation code  \")\n",
    "        \n",
    "        \n",
    "    repeat= input(\"do you want to perform another Operation\")\n",
    "    if repeat not in [\"yes\",\"y\"]:\n",
    "           print(\"Thank you for using our program\")\n",
    "           break"
   ]
  }
 ],
 "metadata": {
  "kernelspec": {
   "display_name": "Python 3",
   "language": "python",
   "name": "python3"
  },
  "language_info": {
   "name": "python",
   "version": "3.12.4"
  }
 },
 "nbformat": 4,
 "nbformat_minor": 2
}
